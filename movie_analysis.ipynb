{
 "cells": [
  {
   "cell_type": "markdown",
   "metadata": {},
   "source": [
    "# Microsoft Movie Analysis\n",
    "\n",
    "**Author:** Cindy Reiner"
   ]
  },
  {
   "cell_type": "markdown",
   "metadata": {},
   "source": [
    "![picture of movie theater](images/cinemas-by-nathan-engel.png)"
   ]
  },
  {
   "cell_type": "markdown",
   "metadata": {},
   "source": [
    "## Overview\n",
    "\n",
    "This project analyzes the inital steps needed to get the software company, Microsoft, started in the movie industry. Movie data from The Movie Database (TMDB) shows that movies with budgets of \\\\$37 million and less are more likely to have a high return on investment (ROI), than high movies with higher budgets. Of movies with budgets of \\\\$37 million and less, Documentaries are the most likely to have a high ROI. There are 9 directors in Internet Movie Database (IMDB) who have had at least 2 popular documentaries in the last ten years; Alex Gibney, Sam Dunn, Scot McFadyen, Fisher Stevens, Adam Curtis, Peter Mortimer, Joshua Oppenheimer, Josh Lowell, and Boris Malagurski. This initial analysis of movie data will give Microsoft direction in deciding the budget, genre and director for their first movie.<img alt=\"picture of man with video camera\" src=\"images/camera.png\" width=\"150\"/>\n"
   ]
  },
  {
   "cell_type": "markdown",
   "metadata": {},
   "source": [
    "## Business Problem    \n",
    "\n",
    "As a company who is hoping to break into the movie business, Microsoft will need to first focus on the questions most relevent to getting started. Among the initial analysis needed are the questions of budget, genre of movie, and director. These all need to be decided in the first steps of creating/planning the first movie. I believe we should focus on starting small with a high return on investment so the company can grow to a point where it can take more risks. "
   ]
  },
  {
   "cell_type": "markdown",
   "metadata": {},
   "source": [
    "## Data Understanding\n",
    "\n",
    "This project uses two datasets. The first one was obtained from [kaggle](https://www.kaggle.com/tmdb/tmdb-movie-metadata) and contains 5000 movies from The Movie Database. It includes movie titles, budgets, revenues, vote averages and numbers, genres, languages, keywords and release dates. For this dataset, I am mostly interested in the budgets, revenues and genres of the movies to determine what budgets and genres have the highest return on investment.\n",
    "\n",
    "The second dataset is a combination of several datasets from IMDB. The IMDB datasets include movie titles, release dates, genres, average ratings, writers and directors.  In this dataset, I will use the movie genres, ratings, and directors."
   ]
  },
  {
   "cell_type": "code",
   "execution_count": 1,
   "metadata": {},
   "outputs": [],
   "source": [
    "# Import standard packages\n",
    "import pandas as pd\n",
    "import numpy as np\n",
    "import matplotlib.pyplot as plt\n",
    "import seaborn as sns\n",
    "import warnings\n",
    "\n",
    "warnings.filterwarnings(\"ignore\")\n",
    "%matplotlib inline\n",
    "sns.set_style('darkgrid')\n",
    "pd.set_option('display.float_format', lambda x: '%.2f' % x)"
   ]
  },
  {
   "cell_type": "code",
   "execution_count": 2,
   "metadata": {},
   "outputs": [],
   "source": [
    "# Import data\n",
    "tmdb_df = pd.read_csv('data/tmdb_5000_movies.csv.zip')\n",
    "title_basics_df = pd.read_csv('data/zippedData/imdb.title.basics.csv.gz', compression = 'gzip')\n",
    "title_rating_df = pd.read_csv('data/zippedData/imdb.title.ratings.csv.gz', compression = 'gzip')\n",
    "title_crew_df = pd.read_csv('data/zippedData/imdb.title.crew.csv.gz', compression = 'gzip')\n",
    "name_basics_df = pd.read_csv('data/zippedData/imdb.name.basics.csv.gz', compression = 'gzip')"
   ]
  },
  {
   "cell_type": "code",
   "execution_count": 3,
   "metadata": {},
   "outputs": [
    {
     "name": "stdout",
     "output_type": "stream",
     "text": [
      "<class 'pandas.core.frame.DataFrame'>\n",
      "RangeIndex: 4803 entries, 0 to 4802\n",
      "Data columns (total 20 columns):\n",
      "budget                  4803 non-null int64\n",
      "genres                  4803 non-null object\n",
      "homepage                1712 non-null object\n",
      "id                      4803 non-null int64\n",
      "keywords                4803 non-null object\n",
      "original_language       4803 non-null object\n",
      "original_title          4803 non-null object\n",
      "overview                4800 non-null object\n",
      "popularity              4803 non-null float64\n",
      "production_companies    4803 non-null object\n",
      "production_countries    4803 non-null object\n",
      "release_date            4802 non-null object\n",
      "revenue                 4803 non-null int64\n",
      "runtime                 4801 non-null float64\n",
      "spoken_languages        4803 non-null object\n",
      "status                  4803 non-null object\n",
      "tagline                 3959 non-null object\n",
      "title                   4803 non-null object\n",
      "vote_average            4803 non-null float64\n",
      "vote_count              4803 non-null int64\n",
      "dtypes: float64(3), int64(4), object(13)\n",
      "memory usage: 750.6+ KB\n"
     ]
    }
   ],
   "source": [
    "tmdb_df.info()"
   ]
  },
  {
   "cell_type": "code",
   "execution_count": 4,
   "metadata": {
    "scrolled": true
   },
   "outputs": [
    {
     "name": "stdout",
     "output_type": "stream",
     "text": [
      "<class 'pandas.core.frame.DataFrame'>\n",
      "RangeIndex: 146144 entries, 0 to 146143\n",
      "Data columns (total 6 columns):\n",
      "tconst             146144 non-null object\n",
      "primary_title      146144 non-null object\n",
      "original_title     146123 non-null object\n",
      "start_year         146144 non-null int64\n",
      "runtime_minutes    114405 non-null float64\n",
      "genres             140736 non-null object\n",
      "dtypes: float64(1), int64(1), object(4)\n",
      "memory usage: 6.7+ MB\n"
     ]
    }
   ],
   "source": [
    "title_basics_df.info()"
   ]
  },
  {
   "cell_type": "code",
   "execution_count": 5,
   "metadata": {},
   "outputs": [
    {
     "name": "stdout",
     "output_type": "stream",
     "text": [
      "<class 'pandas.core.frame.DataFrame'>\n",
      "RangeIndex: 73856 entries, 0 to 73855\n",
      "Data columns (total 3 columns):\n",
      "tconst           73856 non-null object\n",
      "averagerating    73856 non-null float64\n",
      "numvotes         73856 non-null int64\n",
      "dtypes: float64(1), int64(1), object(1)\n",
      "memory usage: 1.7+ MB\n"
     ]
    }
   ],
   "source": [
    "title_rating_df.info()"
   ]
  },
  {
   "cell_type": "code",
   "execution_count": 6,
   "metadata": {},
   "outputs": [
    {
     "name": "stdout",
     "output_type": "stream",
     "text": [
      "<class 'pandas.core.frame.DataFrame'>\n",
      "RangeIndex: 146144 entries, 0 to 146143\n",
      "Data columns (total 3 columns):\n",
      "tconst       146144 non-null object\n",
      "directors    140417 non-null object\n",
      "writers      110261 non-null object\n",
      "dtypes: object(3)\n",
      "memory usage: 3.3+ MB\n"
     ]
    }
   ],
   "source": [
    "title_crew_df.info()"
   ]
  },
  {
   "cell_type": "code",
   "execution_count": 7,
   "metadata": {},
   "outputs": [
    {
     "name": "stdout",
     "output_type": "stream",
     "text": [
      "<class 'pandas.core.frame.DataFrame'>\n",
      "RangeIndex: 606648 entries, 0 to 606647\n",
      "Data columns (total 6 columns):\n",
      "nconst                606648 non-null object\n",
      "primary_name          606648 non-null object\n",
      "birth_year            82736 non-null float64\n",
      "death_year            6783 non-null float64\n",
      "primary_profession    555308 non-null object\n",
      "known_for_titles      576444 non-null object\n",
      "dtypes: float64(2), object(4)\n",
      "memory usage: 27.8+ MB\n"
     ]
    }
   ],
   "source": [
    "name_basics_df.info()"
   ]
  },
  {
   "cell_type": "markdown",
   "metadata": {},
   "source": [
    "### The Movie Database (TMDB)\n",
    "This dataset includes movies with release dates from 1916-2017 along with their budget, revenue, genres, and popularity."
   ]
  },
  {
   "cell_type": "code",
   "execution_count": 8,
   "metadata": {},
   "outputs": [
    {
     "data": {
      "text/html": [
       "<div>\n",
       "<style scoped>\n",
       "    .dataframe tbody tr th:only-of-type {\n",
       "        vertical-align: middle;\n",
       "    }\n",
       "\n",
       "    .dataframe tbody tr th {\n",
       "        vertical-align: top;\n",
       "    }\n",
       "\n",
       "    .dataframe thead th {\n",
       "        text-align: right;\n",
       "    }\n",
       "</style>\n",
       "<table border=\"1\" class=\"dataframe\">\n",
       "  <thead>\n",
       "    <tr style=\"text-align: right;\">\n",
       "      <th></th>\n",
       "      <th>budget</th>\n",
       "      <th>genres</th>\n",
       "      <th>homepage</th>\n",
       "      <th>id</th>\n",
       "      <th>keywords</th>\n",
       "      <th>original_language</th>\n",
       "      <th>original_title</th>\n",
       "      <th>overview</th>\n",
       "      <th>popularity</th>\n",
       "      <th>production_companies</th>\n",
       "      <th>production_countries</th>\n",
       "      <th>release_date</th>\n",
       "      <th>revenue</th>\n",
       "      <th>runtime</th>\n",
       "      <th>spoken_languages</th>\n",
       "      <th>status</th>\n",
       "      <th>tagline</th>\n",
       "      <th>title</th>\n",
       "      <th>vote_average</th>\n",
       "      <th>vote_count</th>\n",
       "    </tr>\n",
       "  </thead>\n",
       "  <tbody>\n",
       "    <tr>\n",
       "      <th>0</th>\n",
       "      <td>237000000</td>\n",
       "      <td>[{\"id\": 28, \"name\": \"Action\"}, {\"id\": 12, \"nam...</td>\n",
       "      <td>http://www.avatarmovie.com/</td>\n",
       "      <td>19995</td>\n",
       "      <td>[{\"id\": 1463, \"name\": \"culture clash\"}, {\"id\":...</td>\n",
       "      <td>en</td>\n",
       "      <td>Avatar</td>\n",
       "      <td>In the 22nd century, a paraplegic Marine is di...</td>\n",
       "      <td>150.44</td>\n",
       "      <td>[{\"name\": \"Ingenious Film Partners\", \"id\": 289...</td>\n",
       "      <td>[{\"iso_3166_1\": \"US\", \"name\": \"United States o...</td>\n",
       "      <td>2009-12-10</td>\n",
       "      <td>2787965087</td>\n",
       "      <td>162.00</td>\n",
       "      <td>[{\"iso_639_1\": \"en\", \"name\": \"English\"}, {\"iso...</td>\n",
       "      <td>Released</td>\n",
       "      <td>Enter the World of Pandora.</td>\n",
       "      <td>Avatar</td>\n",
       "      <td>7.20</td>\n",
       "      <td>11800</td>\n",
       "    </tr>\n",
       "    <tr>\n",
       "      <th>1</th>\n",
       "      <td>300000000</td>\n",
       "      <td>[{\"id\": 12, \"name\": \"Adventure\"}, {\"id\": 14, \"...</td>\n",
       "      <td>http://disney.go.com/disneypictures/pirates/</td>\n",
       "      <td>285</td>\n",
       "      <td>[{\"id\": 270, \"name\": \"ocean\"}, {\"id\": 726, \"na...</td>\n",
       "      <td>en</td>\n",
       "      <td>Pirates of the Caribbean: At World's End</td>\n",
       "      <td>Captain Barbossa, long believed to be dead, ha...</td>\n",
       "      <td>139.08</td>\n",
       "      <td>[{\"name\": \"Walt Disney Pictures\", \"id\": 2}, {\"...</td>\n",
       "      <td>[{\"iso_3166_1\": \"US\", \"name\": \"United States o...</td>\n",
       "      <td>2007-05-19</td>\n",
       "      <td>961000000</td>\n",
       "      <td>169.00</td>\n",
       "      <td>[{\"iso_639_1\": \"en\", \"name\": \"English\"}]</td>\n",
       "      <td>Released</td>\n",
       "      <td>At the end of the world, the adventure begins.</td>\n",
       "      <td>Pirates of the Caribbean: At World's End</td>\n",
       "      <td>6.90</td>\n",
       "      <td>4500</td>\n",
       "    </tr>\n",
       "    <tr>\n",
       "      <th>2</th>\n",
       "      <td>245000000</td>\n",
       "      <td>[{\"id\": 28, \"name\": \"Action\"}, {\"id\": 12, \"nam...</td>\n",
       "      <td>http://www.sonypictures.com/movies/spectre/</td>\n",
       "      <td>206647</td>\n",
       "      <td>[{\"id\": 470, \"name\": \"spy\"}, {\"id\": 818, \"name...</td>\n",
       "      <td>en</td>\n",
       "      <td>Spectre</td>\n",
       "      <td>A cryptic message from Bond’s past sends him o...</td>\n",
       "      <td>107.38</td>\n",
       "      <td>[{\"name\": \"Columbia Pictures\", \"id\": 5}, {\"nam...</td>\n",
       "      <td>[{\"iso_3166_1\": \"GB\", \"name\": \"United Kingdom\"...</td>\n",
       "      <td>2015-10-26</td>\n",
       "      <td>880674609</td>\n",
       "      <td>148.00</td>\n",
       "      <td>[{\"iso_639_1\": \"fr\", \"name\": \"Fran\\u00e7ais\"},...</td>\n",
       "      <td>Released</td>\n",
       "      <td>A Plan No One Escapes</td>\n",
       "      <td>Spectre</td>\n",
       "      <td>6.30</td>\n",
       "      <td>4466</td>\n",
       "    </tr>\n",
       "    <tr>\n",
       "      <th>3</th>\n",
       "      <td>250000000</td>\n",
       "      <td>[{\"id\": 28, \"name\": \"Action\"}, {\"id\": 80, \"nam...</td>\n",
       "      <td>http://www.thedarkknightrises.com/</td>\n",
       "      <td>49026</td>\n",
       "      <td>[{\"id\": 849, \"name\": \"dc comics\"}, {\"id\": 853,...</td>\n",
       "      <td>en</td>\n",
       "      <td>The Dark Knight Rises</td>\n",
       "      <td>Following the death of District Attorney Harve...</td>\n",
       "      <td>112.31</td>\n",
       "      <td>[{\"name\": \"Legendary Pictures\", \"id\": 923}, {\"...</td>\n",
       "      <td>[{\"iso_3166_1\": \"US\", \"name\": \"United States o...</td>\n",
       "      <td>2012-07-16</td>\n",
       "      <td>1084939099</td>\n",
       "      <td>165.00</td>\n",
       "      <td>[{\"iso_639_1\": \"en\", \"name\": \"English\"}]</td>\n",
       "      <td>Released</td>\n",
       "      <td>The Legend Ends</td>\n",
       "      <td>The Dark Knight Rises</td>\n",
       "      <td>7.60</td>\n",
       "      <td>9106</td>\n",
       "    </tr>\n",
       "    <tr>\n",
       "      <th>4</th>\n",
       "      <td>260000000</td>\n",
       "      <td>[{\"id\": 28, \"name\": \"Action\"}, {\"id\": 12, \"nam...</td>\n",
       "      <td>http://movies.disney.com/john-carter</td>\n",
       "      <td>49529</td>\n",
       "      <td>[{\"id\": 818, \"name\": \"based on novel\"}, {\"id\":...</td>\n",
       "      <td>en</td>\n",
       "      <td>John Carter</td>\n",
       "      <td>John Carter is a war-weary, former military ca...</td>\n",
       "      <td>43.93</td>\n",
       "      <td>[{\"name\": \"Walt Disney Pictures\", \"id\": 2}]</td>\n",
       "      <td>[{\"iso_3166_1\": \"US\", \"name\": \"United States o...</td>\n",
       "      <td>2012-03-07</td>\n",
       "      <td>284139100</td>\n",
       "      <td>132.00</td>\n",
       "      <td>[{\"iso_639_1\": \"en\", \"name\": \"English\"}]</td>\n",
       "      <td>Released</td>\n",
       "      <td>Lost in our world, found in another.</td>\n",
       "      <td>John Carter</td>\n",
       "      <td>6.10</td>\n",
       "      <td>2124</td>\n",
       "    </tr>\n",
       "  </tbody>\n",
       "</table>\n",
       "</div>"
      ],
      "text/plain": [
       "      budget                                             genres  \\\n",
       "0  237000000  [{\"id\": 28, \"name\": \"Action\"}, {\"id\": 12, \"nam...   \n",
       "1  300000000  [{\"id\": 12, \"name\": \"Adventure\"}, {\"id\": 14, \"...   \n",
       "2  245000000  [{\"id\": 28, \"name\": \"Action\"}, {\"id\": 12, \"nam...   \n",
       "3  250000000  [{\"id\": 28, \"name\": \"Action\"}, {\"id\": 80, \"nam...   \n",
       "4  260000000  [{\"id\": 28, \"name\": \"Action\"}, {\"id\": 12, \"nam...   \n",
       "\n",
       "                                       homepage      id  \\\n",
       "0                   http://www.avatarmovie.com/   19995   \n",
       "1  http://disney.go.com/disneypictures/pirates/     285   \n",
       "2   http://www.sonypictures.com/movies/spectre/  206647   \n",
       "3            http://www.thedarkknightrises.com/   49026   \n",
       "4          http://movies.disney.com/john-carter   49529   \n",
       "\n",
       "                                            keywords original_language  \\\n",
       "0  [{\"id\": 1463, \"name\": \"culture clash\"}, {\"id\":...                en   \n",
       "1  [{\"id\": 270, \"name\": \"ocean\"}, {\"id\": 726, \"na...                en   \n",
       "2  [{\"id\": 470, \"name\": \"spy\"}, {\"id\": 818, \"name...                en   \n",
       "3  [{\"id\": 849, \"name\": \"dc comics\"}, {\"id\": 853,...                en   \n",
       "4  [{\"id\": 818, \"name\": \"based on novel\"}, {\"id\":...                en   \n",
       "\n",
       "                             original_title  \\\n",
       "0                                    Avatar   \n",
       "1  Pirates of the Caribbean: At World's End   \n",
       "2                                   Spectre   \n",
       "3                     The Dark Knight Rises   \n",
       "4                               John Carter   \n",
       "\n",
       "                                            overview  popularity  \\\n",
       "0  In the 22nd century, a paraplegic Marine is di...      150.44   \n",
       "1  Captain Barbossa, long believed to be dead, ha...      139.08   \n",
       "2  A cryptic message from Bond’s past sends him o...      107.38   \n",
       "3  Following the death of District Attorney Harve...      112.31   \n",
       "4  John Carter is a war-weary, former military ca...       43.93   \n",
       "\n",
       "                                production_companies  \\\n",
       "0  [{\"name\": \"Ingenious Film Partners\", \"id\": 289...   \n",
       "1  [{\"name\": \"Walt Disney Pictures\", \"id\": 2}, {\"...   \n",
       "2  [{\"name\": \"Columbia Pictures\", \"id\": 5}, {\"nam...   \n",
       "3  [{\"name\": \"Legendary Pictures\", \"id\": 923}, {\"...   \n",
       "4        [{\"name\": \"Walt Disney Pictures\", \"id\": 2}]   \n",
       "\n",
       "                                production_countries release_date     revenue  \\\n",
       "0  [{\"iso_3166_1\": \"US\", \"name\": \"United States o...   2009-12-10  2787965087   \n",
       "1  [{\"iso_3166_1\": \"US\", \"name\": \"United States o...   2007-05-19   961000000   \n",
       "2  [{\"iso_3166_1\": \"GB\", \"name\": \"United Kingdom\"...   2015-10-26   880674609   \n",
       "3  [{\"iso_3166_1\": \"US\", \"name\": \"United States o...   2012-07-16  1084939099   \n",
       "4  [{\"iso_3166_1\": \"US\", \"name\": \"United States o...   2012-03-07   284139100   \n",
       "\n",
       "   runtime                                   spoken_languages    status  \\\n",
       "0   162.00  [{\"iso_639_1\": \"en\", \"name\": \"English\"}, {\"iso...  Released   \n",
       "1   169.00           [{\"iso_639_1\": \"en\", \"name\": \"English\"}]  Released   \n",
       "2   148.00  [{\"iso_639_1\": \"fr\", \"name\": \"Fran\\u00e7ais\"},...  Released   \n",
       "3   165.00           [{\"iso_639_1\": \"en\", \"name\": \"English\"}]  Released   \n",
       "4   132.00           [{\"iso_639_1\": \"en\", \"name\": \"English\"}]  Released   \n",
       "\n",
       "                                          tagline  \\\n",
       "0                     Enter the World of Pandora.   \n",
       "1  At the end of the world, the adventure begins.   \n",
       "2                           A Plan No One Escapes   \n",
       "3                                 The Legend Ends   \n",
       "4            Lost in our world, found in another.   \n",
       "\n",
       "                                      title  vote_average  vote_count  \n",
       "0                                    Avatar          7.20       11800  \n",
       "1  Pirates of the Caribbean: At World's End          6.90        4500  \n",
       "2                                   Spectre          6.30        4466  \n",
       "3                     The Dark Knight Rises          7.60        9106  \n",
       "4                               John Carter          6.10        2124  "
      ]
     },
     "execution_count": 8,
     "metadata": {},
     "output_type": "execute_result"
    }
   ],
   "source": [
    "tmdb_df.head()"
   ]
  },
  {
   "cell_type": "code",
   "execution_count": 9,
   "metadata": {},
   "outputs": [
    {
     "data": {
      "text/plain": [
       "count                    4802\n",
       "unique                   3280\n",
       "top       2006-01-01 00:00:00\n",
       "freq                       10\n",
       "first     1916-09-04 00:00:00\n",
       "last      2017-02-03 00:00:00\n",
       "Name: release_date, dtype: object"
      ]
     },
     "execution_count": 9,
     "metadata": {},
     "output_type": "execute_result"
    }
   ],
   "source": [
    "\n",
    "tmdb_df['release_date'] =  pd.to_datetime(tmdb_df['release_date'])\n",
    "tmdb_df['release_date'].describe()"
   ]
  },
  {
   "cell_type": "code",
   "execution_count": 10,
   "metadata": {},
   "outputs": [
    {
     "data": {
      "text/plain": [
       "count        4803.00\n",
       "mean     29045039.88\n",
       "std      40722391.26\n",
       "min             0.00\n",
       "25%        790000.00\n",
       "50%      15000000.00\n",
       "75%      40000000.00\n",
       "max     380000000.00\n",
       "Name: budget, dtype: float64"
      ]
     },
     "execution_count": 10,
     "metadata": {},
     "output_type": "execute_result"
    }
   ],
   "source": [
    "tmdb_df['budget'].describe()"
   ]
  },
  {
   "cell_type": "code",
   "execution_count": 11,
   "metadata": {
    "scrolled": true
   },
   "outputs": [
    {
     "data": {
      "text/plain": [
       "count         4803.00\n",
       "mean      82260638.65\n",
       "std      162857100.94\n",
       "min              0.00\n",
       "25%              0.00\n",
       "50%       19170001.00\n",
       "75%       92917187.00\n",
       "max     2787965087.00\n",
       "Name: revenue, dtype: float64"
      ]
     },
     "execution_count": 11,
     "metadata": {},
     "output_type": "execute_result"
    }
   ],
   "source": [
    "tmdb_df['revenue'].describe()"
   ]
  },
  {
   "cell_type": "code",
   "execution_count": 12,
   "metadata": {},
   "outputs": [
    {
     "data": {
      "text/plain": [
       "count   4803.00\n",
       "mean      21.49\n",
       "std       31.82\n",
       "min        0.00\n",
       "25%        4.67\n",
       "50%       12.92\n",
       "75%       28.31\n",
       "max      875.58\n",
       "Name: popularity, dtype: float64"
      ]
     },
     "execution_count": 12,
     "metadata": {},
     "output_type": "execute_result"
    }
   ],
   "source": [
    "tmdb_df['popularity'].describe()"
   ]
  },
  {
   "cell_type": "markdown",
   "metadata": {},
   "source": [
    "### IMDB Datasets\n",
    "There are four IMDB datasets that will be joined together for this analysis. The first is the basics, which includes title, genres and year for movies released in 2010 and later. The ratings data set contains ratings and number of ratings. The title crew data has unique IDs for both movies and writer and director names to provide a link between the basics dataset and the names data, which contains the names of writers and directors as well as their unique IDs."
   ]
  },
  {
   "cell_type": "code",
   "execution_count": 13,
   "metadata": {
    "scrolled": true
   },
   "outputs": [
    {
     "data": {
      "text/html": [
       "<div>\n",
       "<style scoped>\n",
       "    .dataframe tbody tr th:only-of-type {\n",
       "        vertical-align: middle;\n",
       "    }\n",
       "\n",
       "    .dataframe tbody tr th {\n",
       "        vertical-align: top;\n",
       "    }\n",
       "\n",
       "    .dataframe thead th {\n",
       "        text-align: right;\n",
       "    }\n",
       "</style>\n",
       "<table border=\"1\" class=\"dataframe\">\n",
       "  <thead>\n",
       "    <tr style=\"text-align: right;\">\n",
       "      <th></th>\n",
       "      <th>tconst</th>\n",
       "      <th>primary_title</th>\n",
       "      <th>original_title</th>\n",
       "      <th>start_year</th>\n",
       "      <th>runtime_minutes</th>\n",
       "      <th>genres</th>\n",
       "    </tr>\n",
       "  </thead>\n",
       "  <tbody>\n",
       "    <tr>\n",
       "      <th>0</th>\n",
       "      <td>tt0063540</td>\n",
       "      <td>Sunghursh</td>\n",
       "      <td>Sunghursh</td>\n",
       "      <td>2013</td>\n",
       "      <td>175.00</td>\n",
       "      <td>Action,Crime,Drama</td>\n",
       "    </tr>\n",
       "    <tr>\n",
       "      <th>1</th>\n",
       "      <td>tt0066787</td>\n",
       "      <td>One Day Before the Rainy Season</td>\n",
       "      <td>Ashad Ka Ek Din</td>\n",
       "      <td>2019</td>\n",
       "      <td>114.00</td>\n",
       "      <td>Biography,Drama</td>\n",
       "    </tr>\n",
       "    <tr>\n",
       "      <th>2</th>\n",
       "      <td>tt0069049</td>\n",
       "      <td>The Other Side of the Wind</td>\n",
       "      <td>The Other Side of the Wind</td>\n",
       "      <td>2018</td>\n",
       "      <td>122.00</td>\n",
       "      <td>Drama</td>\n",
       "    </tr>\n",
       "    <tr>\n",
       "      <th>3</th>\n",
       "      <td>tt0069204</td>\n",
       "      <td>Sabse Bada Sukh</td>\n",
       "      <td>Sabse Bada Sukh</td>\n",
       "      <td>2018</td>\n",
       "      <td>nan</td>\n",
       "      <td>Comedy,Drama</td>\n",
       "    </tr>\n",
       "    <tr>\n",
       "      <th>4</th>\n",
       "      <td>tt0100275</td>\n",
       "      <td>The Wandering Soap Opera</td>\n",
       "      <td>La Telenovela Errante</td>\n",
       "      <td>2017</td>\n",
       "      <td>80.00</td>\n",
       "      <td>Comedy,Drama,Fantasy</td>\n",
       "    </tr>\n",
       "  </tbody>\n",
       "</table>\n",
       "</div>"
      ],
      "text/plain": [
       "      tconst                    primary_title              original_title  \\\n",
       "0  tt0063540                        Sunghursh                   Sunghursh   \n",
       "1  tt0066787  One Day Before the Rainy Season             Ashad Ka Ek Din   \n",
       "2  tt0069049       The Other Side of the Wind  The Other Side of the Wind   \n",
       "3  tt0069204                  Sabse Bada Sukh             Sabse Bada Sukh   \n",
       "4  tt0100275         The Wandering Soap Opera       La Telenovela Errante   \n",
       "\n",
       "   start_year  runtime_minutes                genres  \n",
       "0        2013           175.00    Action,Crime,Drama  \n",
       "1        2019           114.00       Biography,Drama  \n",
       "2        2018           122.00                 Drama  \n",
       "3        2018              nan          Comedy,Drama  \n",
       "4        2017            80.00  Comedy,Drama,Fantasy  "
      ]
     },
     "execution_count": 13,
     "metadata": {},
     "output_type": "execute_result"
    }
   ],
   "source": [
    "title_basics_df.head()"
   ]
  },
  {
   "cell_type": "code",
   "execution_count": 14,
   "metadata": {},
   "outputs": [
    {
     "data": {
      "text/plain": [
       "count   146144.00\n",
       "mean      2014.62\n",
       "std          2.73\n",
       "min       2010.00\n",
       "25%       2012.00\n",
       "50%       2015.00\n",
       "75%       2017.00\n",
       "max       2115.00\n",
       "Name: start_year, dtype: float64"
      ]
     },
     "execution_count": 14,
     "metadata": {},
     "output_type": "execute_result"
    }
   ],
   "source": [
    "title_basics_df['start_year'].describe()"
   ]
  },
  {
   "cell_type": "code",
   "execution_count": 15,
   "metadata": {
    "scrolled": true
   },
   "outputs": [
    {
     "data": {
      "text/html": [
       "<div>\n",
       "<style scoped>\n",
       "    .dataframe tbody tr th:only-of-type {\n",
       "        vertical-align: middle;\n",
       "    }\n",
       "\n",
       "    .dataframe tbody tr th {\n",
       "        vertical-align: top;\n",
       "    }\n",
       "\n",
       "    .dataframe thead th {\n",
       "        text-align: right;\n",
       "    }\n",
       "</style>\n",
       "<table border=\"1\" class=\"dataframe\">\n",
       "  <thead>\n",
       "    <tr style=\"text-align: right;\">\n",
       "      <th></th>\n",
       "      <th>tconst</th>\n",
       "      <th>averagerating</th>\n",
       "      <th>numvotes</th>\n",
       "    </tr>\n",
       "  </thead>\n",
       "  <tbody>\n",
       "    <tr>\n",
       "      <th>0</th>\n",
       "      <td>tt10356526</td>\n",
       "      <td>8.30</td>\n",
       "      <td>31</td>\n",
       "    </tr>\n",
       "    <tr>\n",
       "      <th>1</th>\n",
       "      <td>tt10384606</td>\n",
       "      <td>8.90</td>\n",
       "      <td>559</td>\n",
       "    </tr>\n",
       "    <tr>\n",
       "      <th>2</th>\n",
       "      <td>tt1042974</td>\n",
       "      <td>6.40</td>\n",
       "      <td>20</td>\n",
       "    </tr>\n",
       "    <tr>\n",
       "      <th>3</th>\n",
       "      <td>tt1043726</td>\n",
       "      <td>4.20</td>\n",
       "      <td>50352</td>\n",
       "    </tr>\n",
       "    <tr>\n",
       "      <th>4</th>\n",
       "      <td>tt1060240</td>\n",
       "      <td>6.50</td>\n",
       "      <td>21</td>\n",
       "    </tr>\n",
       "  </tbody>\n",
       "</table>\n",
       "</div>"
      ],
      "text/plain": [
       "       tconst  averagerating  numvotes\n",
       "0  tt10356526           8.30        31\n",
       "1  tt10384606           8.90       559\n",
       "2   tt1042974           6.40        20\n",
       "3   tt1043726           4.20     50352\n",
       "4   tt1060240           6.50        21"
      ]
     },
     "execution_count": 15,
     "metadata": {},
     "output_type": "execute_result"
    }
   ],
   "source": [
    "title_rating_df.head()"
   ]
  },
  {
   "cell_type": "code",
   "execution_count": 16,
   "metadata": {
    "scrolled": true
   },
   "outputs": [
    {
     "data": {
      "text/html": [
       "<div>\n",
       "<style scoped>\n",
       "    .dataframe tbody tr th:only-of-type {\n",
       "        vertical-align: middle;\n",
       "    }\n",
       "\n",
       "    .dataframe tbody tr th {\n",
       "        vertical-align: top;\n",
       "    }\n",
       "\n",
       "    .dataframe thead th {\n",
       "        text-align: right;\n",
       "    }\n",
       "</style>\n",
       "<table border=\"1\" class=\"dataframe\">\n",
       "  <thead>\n",
       "    <tr style=\"text-align: right;\">\n",
       "      <th></th>\n",
       "      <th>tconst</th>\n",
       "      <th>directors</th>\n",
       "      <th>writers</th>\n",
       "    </tr>\n",
       "  </thead>\n",
       "  <tbody>\n",
       "    <tr>\n",
       "      <th>0</th>\n",
       "      <td>tt0285252</td>\n",
       "      <td>nm0899854</td>\n",
       "      <td>nm0899854</td>\n",
       "    </tr>\n",
       "    <tr>\n",
       "      <th>1</th>\n",
       "      <td>tt0438973</td>\n",
       "      <td>NaN</td>\n",
       "      <td>nm0175726,nm1802864</td>\n",
       "    </tr>\n",
       "    <tr>\n",
       "      <th>2</th>\n",
       "      <td>tt0462036</td>\n",
       "      <td>nm1940585</td>\n",
       "      <td>nm1940585</td>\n",
       "    </tr>\n",
       "    <tr>\n",
       "      <th>3</th>\n",
       "      <td>tt0835418</td>\n",
       "      <td>nm0151540</td>\n",
       "      <td>nm0310087,nm0841532</td>\n",
       "    </tr>\n",
       "    <tr>\n",
       "      <th>4</th>\n",
       "      <td>tt0878654</td>\n",
       "      <td>nm0089502,nm2291498,nm2292011</td>\n",
       "      <td>nm0284943</td>\n",
       "    </tr>\n",
       "  </tbody>\n",
       "</table>\n",
       "</div>"
      ],
      "text/plain": [
       "      tconst                      directors              writers\n",
       "0  tt0285252                      nm0899854            nm0899854\n",
       "1  tt0438973                            NaN  nm0175726,nm1802864\n",
       "2  tt0462036                      nm1940585            nm1940585\n",
       "3  tt0835418                      nm0151540  nm0310087,nm0841532\n",
       "4  tt0878654  nm0089502,nm2291498,nm2292011            nm0284943"
      ]
     },
     "execution_count": 16,
     "metadata": {},
     "output_type": "execute_result"
    }
   ],
   "source": [
    "title_crew_df.head()"
   ]
  },
  {
   "cell_type": "code",
   "execution_count": 17,
   "metadata": {},
   "outputs": [
    {
     "data": {
      "text/html": [
       "<div>\n",
       "<style scoped>\n",
       "    .dataframe tbody tr th:only-of-type {\n",
       "        vertical-align: middle;\n",
       "    }\n",
       "\n",
       "    .dataframe tbody tr th {\n",
       "        vertical-align: top;\n",
       "    }\n",
       "\n",
       "    .dataframe thead th {\n",
       "        text-align: right;\n",
       "    }\n",
       "</style>\n",
       "<table border=\"1\" class=\"dataframe\">\n",
       "  <thead>\n",
       "    <tr style=\"text-align: right;\">\n",
       "      <th></th>\n",
       "      <th>nconst</th>\n",
       "      <th>primary_name</th>\n",
       "      <th>birth_year</th>\n",
       "      <th>death_year</th>\n",
       "      <th>primary_profession</th>\n",
       "      <th>known_for_titles</th>\n",
       "    </tr>\n",
       "  </thead>\n",
       "  <tbody>\n",
       "    <tr>\n",
       "      <th>0</th>\n",
       "      <td>nm0061671</td>\n",
       "      <td>Mary Ellen Bauder</td>\n",
       "      <td>nan</td>\n",
       "      <td>nan</td>\n",
       "      <td>miscellaneous,production_manager,producer</td>\n",
       "      <td>tt0837562,tt2398241,tt0844471,tt0118553</td>\n",
       "    </tr>\n",
       "    <tr>\n",
       "      <th>1</th>\n",
       "      <td>nm0061865</td>\n",
       "      <td>Joseph Bauer</td>\n",
       "      <td>nan</td>\n",
       "      <td>nan</td>\n",
       "      <td>composer,music_department,sound_department</td>\n",
       "      <td>tt0896534,tt6791238,tt0287072,tt1682940</td>\n",
       "    </tr>\n",
       "    <tr>\n",
       "      <th>2</th>\n",
       "      <td>nm0062070</td>\n",
       "      <td>Bruce Baum</td>\n",
       "      <td>nan</td>\n",
       "      <td>nan</td>\n",
       "      <td>miscellaneous,actor,writer</td>\n",
       "      <td>tt1470654,tt0363631,tt0104030,tt0102898</td>\n",
       "    </tr>\n",
       "    <tr>\n",
       "      <th>3</th>\n",
       "      <td>nm0062195</td>\n",
       "      <td>Axel Baumann</td>\n",
       "      <td>nan</td>\n",
       "      <td>nan</td>\n",
       "      <td>camera_department,cinematographer,art_department</td>\n",
       "      <td>tt0114371,tt2004304,tt1618448,tt1224387</td>\n",
       "    </tr>\n",
       "    <tr>\n",
       "      <th>4</th>\n",
       "      <td>nm0062798</td>\n",
       "      <td>Pete Baxter</td>\n",
       "      <td>nan</td>\n",
       "      <td>nan</td>\n",
       "      <td>production_designer,art_department,set_decorator</td>\n",
       "      <td>tt0452644,tt0452692,tt3458030,tt2178256</td>\n",
       "    </tr>\n",
       "  </tbody>\n",
       "</table>\n",
       "</div>"
      ],
      "text/plain": [
       "      nconst       primary_name  birth_year  death_year  \\\n",
       "0  nm0061671  Mary Ellen Bauder         nan         nan   \n",
       "1  nm0061865       Joseph Bauer         nan         nan   \n",
       "2  nm0062070         Bruce Baum         nan         nan   \n",
       "3  nm0062195       Axel Baumann         nan         nan   \n",
       "4  nm0062798        Pete Baxter         nan         nan   \n",
       "\n",
       "                                 primary_profession  \\\n",
       "0         miscellaneous,production_manager,producer   \n",
       "1        composer,music_department,sound_department   \n",
       "2                        miscellaneous,actor,writer   \n",
       "3  camera_department,cinematographer,art_department   \n",
       "4  production_designer,art_department,set_decorator   \n",
       "\n",
       "                          known_for_titles  \n",
       "0  tt0837562,tt2398241,tt0844471,tt0118553  \n",
       "1  tt0896534,tt6791238,tt0287072,tt1682940  \n",
       "2  tt1470654,tt0363631,tt0104030,tt0102898  \n",
       "3  tt0114371,tt2004304,tt1618448,tt1224387  \n",
       "4  tt0452644,tt0452692,tt3458030,tt2178256  "
      ]
     },
     "execution_count": 17,
     "metadata": {},
     "output_type": "execute_result"
    }
   ],
   "source": [
    "name_basics_df.head()"
   ]
  },
  {
   "cell_type": "markdown",
   "metadata": {},
   "source": [
    "## Data Preparation"
   ]
  },
  {
   "cell_type": "markdown",
   "metadata": {},
   "source": [
    "### TMDB dataset\n",
    "##### Data Cleaning\n",
    "To prepare the tmdb dataset for analysis, I drop unneeded columns. I plan to use this data to analyze movie budgets, revenue, and genres. To eliminate issues of of inflation and changing public interests, I also limit the data to movies that were released in 2000 or later. Finally, I drop films without budget and revenue data."
   ]
  },
  {
   "cell_type": "code",
   "execution_count": 18,
   "metadata": {},
   "outputs": [],
   "source": [
    "#drop columns I know I won't be using\n",
    "tmdb_df = tmdb_df.drop(columns = \n",
    "                       ['homepage', 'original_title', 'status', 'tagline', 'original_language', \n",
    "                        'spoken_languages', 'overview', 'production_countries']\n",
    "                      )"
   ]
  },
  {
   "cell_type": "code",
   "execution_count": 19,
   "metadata": {},
   "outputs": [],
   "source": [
    "#limit data movies made since 2000\n",
    "tmdb_df = tmdb_df.loc[tmdb_df['release_date'] > '1999-12-31']"
   ]
  },
  {
   "cell_type": "code",
   "execution_count": 20,
   "metadata": {},
   "outputs": [],
   "source": [
    "#drop films without budget data\n",
    "tmdb_df = tmdb_df.loc[tmdb_df['budget'] != 0]\n",
    "#remove films without revenue data\n",
    "tmdb_df = tmdb_df.loc[tmdb_df['revenue'] != 0]"
   ]
  },
  {
   "cell_type": "markdown",
   "metadata": {},
   "source": [
    "##### Feature Engineering\n",
    "I create a column for return on investment (ROI) using the revenue and budget columns and convert dictionary columns to lists. I also write a function to use in the analysis that will take a database with a genres column and return a series with the number of movies in each genre present in the database."
   ]
  },
  {
   "cell_type": "code",
   "execution_count": 21,
   "metadata": {},
   "outputs": [],
   "source": [
    "#add column for ROI\n",
    "tmdb_df['roi'] = tmdb_df['revenue'] / tmdb_df['budget']"
   ]
  },
  {
   "cell_type": "code",
   "execution_count": 22,
   "metadata": {},
   "outputs": [],
   "source": [
    "#reorder columns to make them easier to use\n",
    "tmdb_df = tmdb_df[\n",
    "    ['budget', 'revenue', 'roi', 'title', 'release_date', 'genres', 'keywords', 'vote_average', \n",
    "     'vote_count', 'popularity', 'production_companies', 'runtime', 'id']]"
   ]
  },
  {
   "cell_type": "markdown",
   "metadata": {},
   "source": [
    "The genres and keyword columns look like dictionaries, but are actually strings that look like dictionaries. This function first converts the strings to dictionaries, then extracts the values for the 'name' key into a list of genres or keywords."
   ]
  },
  {
   "cell_type": "code",
   "execution_count": 23,
   "metadata": {},
   "outputs": [],
   "source": [
    "#function that will turn each string/dictionary column into lists\n",
    "import ast\n",
    "def str_dict_to_list(column, dataframe) :\n",
    "    '''\n",
    "    returns the column as a list of the values for the 'name' key\n",
    "    \n",
    "    Parameters:\n",
    "        column: str\n",
    "            column that is a string that looks like a dictionary and has a 'name' key\n",
    "        dataframe \n",
    "            dataframe the contains a column fitting the above description\n",
    "    Returns:\n",
    "         dataframe \n",
    "             same dataframe with string/dictionary column as list of values for the 'name' keys\n",
    "    '''\n",
    "    names_list = []\n",
    "    for row in dataframe.index:\n",
    "        # first need to convert the strings to dictionarys!\n",
    "        str_to_dict = ast.literal_eval(dataframe[column][row])\n",
    "        #create list of values from key \"name\"\n",
    "        names_list = [name.get(\"name\") for name in str_to_dict]\n",
    "        #replace the column value with the new list\n",
    "        dataframe[column][row] = names_list\n",
    "    return dataframe"
   ]
  },
  {
   "cell_type": "code",
   "execution_count": 24,
   "metadata": {
    "scrolled": true
   },
   "outputs": [
    {
     "data": {
      "text/html": [
       "<div>\n",
       "<style scoped>\n",
       "    .dataframe tbody tr th:only-of-type {\n",
       "        vertical-align: middle;\n",
       "    }\n",
       "\n",
       "    .dataframe tbody tr th {\n",
       "        vertical-align: top;\n",
       "    }\n",
       "\n",
       "    .dataframe thead th {\n",
       "        text-align: right;\n",
       "    }\n",
       "</style>\n",
       "<table border=\"1\" class=\"dataframe\">\n",
       "  <thead>\n",
       "    <tr style=\"text-align: right;\">\n",
       "      <th></th>\n",
       "      <th>budget</th>\n",
       "      <th>revenue</th>\n",
       "      <th>roi</th>\n",
       "      <th>title</th>\n",
       "      <th>release_date</th>\n",
       "      <th>genres</th>\n",
       "      <th>keywords</th>\n",
       "      <th>vote_average</th>\n",
       "      <th>vote_count</th>\n",
       "      <th>popularity</th>\n",
       "      <th>production_companies</th>\n",
       "      <th>runtime</th>\n",
       "      <th>id</th>\n",
       "    </tr>\n",
       "  </thead>\n",
       "  <tbody>\n",
       "    <tr>\n",
       "      <th>0</th>\n",
       "      <td>237000000</td>\n",
       "      <td>2787965087</td>\n",
       "      <td>11.76</td>\n",
       "      <td>Avatar</td>\n",
       "      <td>2009-12-10</td>\n",
       "      <td>[Action, Adventure, Fantasy, Science Fiction]</td>\n",
       "      <td>[culture clash, future, space war, space colon...</td>\n",
       "      <td>7.20</td>\n",
       "      <td>11800</td>\n",
       "      <td>150.44</td>\n",
       "      <td>[Ingenious Film Partners, Twentieth Century Fo...</td>\n",
       "      <td>162.00</td>\n",
       "      <td>19995</td>\n",
       "    </tr>\n",
       "    <tr>\n",
       "      <th>1</th>\n",
       "      <td>300000000</td>\n",
       "      <td>961000000</td>\n",
       "      <td>3.20</td>\n",
       "      <td>Pirates of the Caribbean: At World's End</td>\n",
       "      <td>2007-05-19</td>\n",
       "      <td>[Adventure, Fantasy, Action]</td>\n",
       "      <td>[ocean, drug abuse, exotic island, east india ...</td>\n",
       "      <td>6.90</td>\n",
       "      <td>4500</td>\n",
       "      <td>139.08</td>\n",
       "      <td>[Walt Disney Pictures, Jerry Bruckheimer Films...</td>\n",
       "      <td>169.00</td>\n",
       "      <td>285</td>\n",
       "    </tr>\n",
       "    <tr>\n",
       "      <th>2</th>\n",
       "      <td>245000000</td>\n",
       "      <td>880674609</td>\n",
       "      <td>3.59</td>\n",
       "      <td>Spectre</td>\n",
       "      <td>2015-10-26</td>\n",
       "      <td>[Action, Adventure, Crime]</td>\n",
       "      <td>[spy, based on novel, secret agent, sequel, mi...</td>\n",
       "      <td>6.30</td>\n",
       "      <td>4466</td>\n",
       "      <td>107.38</td>\n",
       "      <td>[Columbia Pictures, Danjaq, B24]</td>\n",
       "      <td>148.00</td>\n",
       "      <td>206647</td>\n",
       "    </tr>\n",
       "  </tbody>\n",
       "</table>\n",
       "</div>"
      ],
      "text/plain": [
       "      budget     revenue   roi                                     title  \\\n",
       "0  237000000  2787965087 11.76                                    Avatar   \n",
       "1  300000000   961000000  3.20  Pirates of the Caribbean: At World's End   \n",
       "2  245000000   880674609  3.59                                   Spectre   \n",
       "\n",
       "  release_date                                         genres  \\\n",
       "0   2009-12-10  [Action, Adventure, Fantasy, Science Fiction]   \n",
       "1   2007-05-19                   [Adventure, Fantasy, Action]   \n",
       "2   2015-10-26                     [Action, Adventure, Crime]   \n",
       "\n",
       "                                            keywords  vote_average  \\\n",
       "0  [culture clash, future, space war, space colon...          7.20   \n",
       "1  [ocean, drug abuse, exotic island, east india ...          6.90   \n",
       "2  [spy, based on novel, secret agent, sequel, mi...          6.30   \n",
       "\n",
       "   vote_count  popularity                               production_companies  \\\n",
       "0       11800      150.44  [Ingenious Film Partners, Twentieth Century Fo...   \n",
       "1        4500      139.08  [Walt Disney Pictures, Jerry Bruckheimer Films...   \n",
       "2        4466      107.38                   [Columbia Pictures, Danjaq, B24]   \n",
       "\n",
       "   runtime      id  \n",
       "0   162.00   19995  \n",
       "1   169.00     285  \n",
       "2   148.00  206647  "
      ]
     },
     "execution_count": 24,
     "metadata": {},
     "output_type": "execute_result"
    }
   ],
   "source": [
    "# call function on genre, keyword, and production company columns of tmdb_df\n",
    "str_dict_to_list('genres', tmdb_df)\n",
    "str_dict_to_list('keywords', tmdb_df)\n",
    "str_dict_to_list('production_companies', tmdb_df)\n",
    "tmdb_df.head(3)"
   ]
  },
  {
   "cell_type": "markdown",
   "metadata": {},
   "source": [
    "### IMDB Datasets\n",
    "##### Data Cleaning\n",
    "\n",
    "To clean the data, I drop columns that are not needed from the 'basics' dataframe, fill null values with 'unknown' and separated columns that are strings containing lists into lists."
   ]
  },
  {
   "cell_type": "code",
   "execution_count": 26,
   "metadata": {},
   "outputs": [],
   "source": [
    "#drop unneeded columns\n",
    "title_basics_df.drop(columns=['original_title', 'runtime_minutes'], inplace = True)"
   ]
  },
  {
   "cell_type": "code",
   "execution_count": 27,
   "metadata": {},
   "outputs": [],
   "source": [
    "#fill nulls in title_basics genre column with 'unknown'\n",
    "title_basics_df['genres'] = title_basics_df['genres'].fillna('unknown')\n",
    "#split genres column into lists\n",
    "title_basics_df['genres'] = [x.split(',') for x in title_basics_df['genres']]"
   ]
  },
  {
   "cell_type": "code",
   "execution_count": 28,
   "metadata": {},
   "outputs": [],
   "source": [
    "#fill nulls in title_crew 'directors' column with 'unknown'\n",
    "title_crew_df['directors'] = title_crew_df['directors'].fillna('unknown')\n",
    "#split directors column into lists\n",
    "title_crew_df['directors'] = [x.split(',') for x in title_crew_df['directors']]"
   ]
  },
  {
   "cell_type": "code",
   "execution_count": 29,
   "metadata": {},
   "outputs": [],
   "source": [
    "#fill nulls in name_basics 'primary_profession' and 'known_for_titles' columns with 'unknown'\n",
    "name_basics_df['primary_profession'] = name_basics_df['primary_profession'].fillna('unknown')\n",
    "name_basics_df['known_for_titles'] = name_basics_df['known_for_titles'].fillna('unknown')\n",
    "#split primary_profession and known_for_titles columns in name basics into lists\n",
    "name_basics_df['known_for_titles'] = [x.split(',') for x in name_basics_df['known_for_titles']]\n",
    "name_basics_df['primary_profession'] = [x.split(',') for x in name_basics_df['primary_profession']]"
   ]
  },
  {
   "cell_type": "markdown",
   "metadata": {},
   "source": [
    "##### Merging Datasets\n",
    "These datasets merge easily using the 'tconst' columns. The basics and crew datasets have the same number of entries, while the ratings dataset has fewer entries. I use an inner join to exclude movies that do not have rating information."
   ]
  },
  {
   "cell_type": "code",
   "execution_count": 30,
   "metadata": {},
   "outputs": [],
   "source": [
    "imdb_df = title_basics_df.merge(title_rating_df, on = 'tconst')"
   ]
  },
  {
   "cell_type": "code",
   "execution_count": 31,
   "metadata": {},
   "outputs": [],
   "source": [
    "imdb_df = imdb_df.merge(title_crew_df, on = 'tconst')"
   ]
  },
  {
   "cell_type": "markdown",
   "metadata": {},
   "source": [
    "##### Feature Engineering\n",
    "The dataset containing the names of the directors does not merge easily with the other imdb datasets. Instead, I create a dictionary of the names and 'nconst' from the names data set and use list comprehension to add the director names as a new column on the imdb dataset."
   ]
  },
  {
   "cell_type": "code",
   "execution_count": 32,
   "metadata": {},
   "outputs": [],
   "source": [
    "#create a dictionary of nconsts and names\n",
    "director_dict = dict(zip(list(name_basics_df['nconst']), list(name_basics_df['primary_name'])))\n",
    "# then create the column and add the names using list comprehension\n",
    "imdb_df = imdb_df.assign(dir_names=[\n",
    "    [director_dict[k] for k in row if director_dict.get(k)] for row in imdb_df['directors']\n",
    "])"
   ]
  },
  {
   "cell_type": "code",
   "execution_count": 33,
   "metadata": {
    "scrolled": true
   },
   "outputs": [
    {
     "data": {
      "text/html": [
       "<div>\n",
       "<style scoped>\n",
       "    .dataframe tbody tr th:only-of-type {\n",
       "        vertical-align: middle;\n",
       "    }\n",
       "\n",
       "    .dataframe tbody tr th {\n",
       "        vertical-align: top;\n",
       "    }\n",
       "\n",
       "    .dataframe thead th {\n",
       "        text-align: right;\n",
       "    }\n",
       "</style>\n",
       "<table border=\"1\" class=\"dataframe\">\n",
       "  <thead>\n",
       "    <tr style=\"text-align: right;\">\n",
       "      <th></th>\n",
       "      <th>tconst</th>\n",
       "      <th>primary_title</th>\n",
       "      <th>start_year</th>\n",
       "      <th>genres</th>\n",
       "      <th>averagerating</th>\n",
       "      <th>numvotes</th>\n",
       "      <th>directors</th>\n",
       "      <th>writers</th>\n",
       "      <th>dir_names</th>\n",
       "    </tr>\n",
       "  </thead>\n",
       "  <tbody>\n",
       "    <tr>\n",
       "      <th>0</th>\n",
       "      <td>tt0063540</td>\n",
       "      <td>Sunghursh</td>\n",
       "      <td>2013</td>\n",
       "      <td>[Action, Crime, Drama]</td>\n",
       "      <td>7.00</td>\n",
       "      <td>77</td>\n",
       "      <td>[nm0712540]</td>\n",
       "      <td>nm0023551,nm1194313,nm0347899,nm1391276</td>\n",
       "      <td>[Harnam Singh Rawail]</td>\n",
       "    </tr>\n",
       "    <tr>\n",
       "      <th>1</th>\n",
       "      <td>tt0066787</td>\n",
       "      <td>One Day Before the Rainy Season</td>\n",
       "      <td>2019</td>\n",
       "      <td>[Biography, Drama]</td>\n",
       "      <td>7.20</td>\n",
       "      <td>43</td>\n",
       "      <td>[nm0002411]</td>\n",
       "      <td>NaN</td>\n",
       "      <td>[Mani Kaul]</td>\n",
       "    </tr>\n",
       "    <tr>\n",
       "      <th>2</th>\n",
       "      <td>tt0069049</td>\n",
       "      <td>The Other Side of the Wind</td>\n",
       "      <td>2018</td>\n",
       "      <td>[Drama]</td>\n",
       "      <td>6.90</td>\n",
       "      <td>4517</td>\n",
       "      <td>[nm0000080]</td>\n",
       "      <td>nm0000080,nm0462648</td>\n",
       "      <td>[Orson Welles]</td>\n",
       "    </tr>\n",
       "    <tr>\n",
       "      <th>3</th>\n",
       "      <td>tt0069204</td>\n",
       "      <td>Sabse Bada Sukh</td>\n",
       "      <td>2018</td>\n",
       "      <td>[Comedy, Drama]</td>\n",
       "      <td>6.10</td>\n",
       "      <td>13</td>\n",
       "      <td>[nm0611531]</td>\n",
       "      <td>nm0347899</td>\n",
       "      <td>[Hrishikesh Mukherjee]</td>\n",
       "    </tr>\n",
       "    <tr>\n",
       "      <th>4</th>\n",
       "      <td>tt0100275</td>\n",
       "      <td>The Wandering Soap Opera</td>\n",
       "      <td>2017</td>\n",
       "      <td>[Comedy, Drama, Fantasy]</td>\n",
       "      <td>6.50</td>\n",
       "      <td>119</td>\n",
       "      <td>[nm0765384, nm0749914]</td>\n",
       "      <td>nm1360635,nm0749914</td>\n",
       "      <td>[Valeria Sarmiento, Raoul Ruiz]</td>\n",
       "    </tr>\n",
       "  </tbody>\n",
       "</table>\n",
       "</div>"
      ],
      "text/plain": [
       "      tconst                    primary_title  start_year  \\\n",
       "0  tt0063540                        Sunghursh        2013   \n",
       "1  tt0066787  One Day Before the Rainy Season        2019   \n",
       "2  tt0069049       The Other Side of the Wind        2018   \n",
       "3  tt0069204                  Sabse Bada Sukh        2018   \n",
       "4  tt0100275         The Wandering Soap Opera        2017   \n",
       "\n",
       "                     genres  averagerating  numvotes               directors  \\\n",
       "0    [Action, Crime, Drama]           7.00        77             [nm0712540]   \n",
       "1        [Biography, Drama]           7.20        43             [nm0002411]   \n",
       "2                   [Drama]           6.90      4517             [nm0000080]   \n",
       "3           [Comedy, Drama]           6.10        13             [nm0611531]   \n",
       "4  [Comedy, Drama, Fantasy]           6.50       119  [nm0765384, nm0749914]   \n",
       "\n",
       "                                   writers                        dir_names  \n",
       "0  nm0023551,nm1194313,nm0347899,nm1391276            [Harnam Singh Rawail]  \n",
       "1                                      NaN                      [Mani Kaul]  \n",
       "2                      nm0000080,nm0462648                   [Orson Welles]  \n",
       "3                                nm0347899           [Hrishikesh Mukherjee]  \n",
       "4                      nm1360635,nm0749914  [Valeria Sarmiento, Raoul Ruiz]  "
      ]
     },
     "execution_count": 33,
     "metadata": {},
     "output_type": "execute_result"
    }
   ],
   "source": [
    "imdb_df.head()"
   ]
  },
  {
   "cell_type": "markdown",
   "metadata": {},
   "source": [
    "## Data Modeling\n"
   ]
  },
  {
   "cell_type": "markdown",
   "metadata": {},
   "source": [
    "### Budget\n",
    "To make a budget recommendation, I examine the relationship between return on investment (ROI) and budget. I first look at a scatter plot of ROI vs Budget to see what ROI would be considered to be high, and what budget those high ROI movies have. There are some outliers in the ROI data, with a very high ROI, so I also plot a zoomed in version to see the transition between high budget/low ROI and low budget/high ROI."
   ]
  },
  {
   "cell_type": "code",
   "execution_count": 34,
   "metadata": {
    "scrolled": false
   },
   "outputs": [
    {
     "data": {
      "image/png": "[encoded data removed]",
      "text/plain": [
       "<Figure size 1080x288 with 2 Axes>"
      ]
     },
     "metadata": {
      "needs_background": "light"
     },
     "output_type": "display_data"
    }
   ],
   "source": [
    "# Plot ROI vs Budgets\n",
    "fig, ax = plt.subplots(nrows=1, ncols=2, figsize=(15, 4))\n",
    "import matplotlib as mpl\n",
    "\n",
    "\n",
    "budget = tmdb_df['budget']\n",
    "roi = tmdb_df['roi']\n",
    "\n",
    "sns.scatterplot(x = budget, y = roi, ax=ax[0], color = '#F35426')\n",
    "sns.scatterplot(x = budget, y = roi, ax=ax[1], color = '#81BC0D')\n",
    "\n",
    "ax[0].ticklabel_format(style='plain', axis='x')\n",
    "ax[0].set_title('ROI vs Budget for films released since 2000')\n",
    "ax[0].set_ylabel('ROI (return on investment)')\n",
    "ax[0].set_xlabel('Budget in US Dollars')\n",
    "ax[0].set_ylim(0, 500)\n",
    "ax[0].set_xticklabels(['${:,}'.format(int(x)) for x in ax[0].get_xticks()], rotation=45, ha='right')\n",
    "\n",
    "ax[1].ticklabel_format(style='plain', axis='x')\n",
    "ax[1].set_title('ROI vs Budget for films released since 2000 (zoomed in)')\n",
    "ax[1].set_ylabel('ROI (return on investment)')\n",
    "ax[1].set_xlabel('Budget in US Dollars')\n",
    "ax[1].tick_params(axis='x', labelrotation=45)\n",
    "ax[1].set_ylim(0, 18)\n",
    "ax[1].set_xticklabels(['${:,}'.format(int(x)) for x in ax[1].get_xticks()], rotation=45, ha='right')\n",
    "\n",
    "\n",
    "plt.savefig(\"./images/roivbudget.png\", dpi=150)\n",
    "plt.show()"
   ]
  },
  {
   "cell_type": "markdown",
   "metadata": {},
   "source": [
    "This shows that lower budget movies tend to have the highest ROI. Based on these graphs, I decided on an ROI of 6 as a mid point to separate the high ROI movies from the low ROI movies. It also looks like extremely low budget movies will skew any budget analysis, so I will next look at the budget distributions of the high and low ROI movies that have a budget over $2 million."
   ]
  },
  {
   "cell_type": "code",
   "execution_count": 35,
   "metadata": {},
   "outputs": [],
   "source": [
    "# limit data to budgets over $2 million\n",
    "tmdb_df = tmdb_df[tmdb_df['budget'] > 2000000]"
   ]
  },
  {
   "cell_type": "code",
   "execution_count": 36,
   "metadata": {},
   "outputs": [],
   "source": [
    "#add column to indicate high or low ROI\n",
    "tmdb_df.loc[tmdb_df['roi']<6, 'roi_type'] = 'low'\n",
    "tmdb_df.loc[tmdb_df['roi']>=6, 'roi_type'] = 'high'"
   ]
  },
  {
   "cell_type": "code",
   "execution_count": 37,
   "metadata": {},
   "outputs": [
    {
     "data": {
      "image/png": "[encoded data removed]",
      "text/plain": [
       "<Figure size 432x288 with 1 Axes>"
      ]
     },
     "metadata": {
      "needs_background": "light"
     },
     "output_type": "display_data"
    }
   ],
   "source": [
    "# use a box plot to look at the budget distribution of the high and low roi datasets\n",
    "fig, ax = plt.subplots(1,1)\n",
    "sns.boxplot(y = tmdb_df['budget'], x=tmdb_df['roi_type'], color = '#1AA7F0')\n",
    "\n",
    "plt.ticklabel_format(style='plain', axis='y')\n",
    "plt.title('Budget Distribution for High and Low ROI Movies')\n",
    "plt.ylabel('Budget in US Dollars')\n",
    "plt.xlabel('ROI Type')\n",
    "ax.set_yticklabels(['${:,}'.format(int(y)) for y in ax.get_yticks()])\n",
    "\n",
    "plt.savefig(\"./images/budgetvROItype.png\", dpi=150)\n",
    "plt.show()"
   ]
  },
  {
   "cell_type": "code",
   "execution_count": 38,
   "metadata": {},
   "outputs": [
    {
     "data": {
      "text/html": [
       "<div>\n",
       "<style scoped>\n",
       "    .dataframe tbody tr th:only-of-type {\n",
       "        vertical-align: middle;\n",
       "    }\n",
       "\n",
       "    .dataframe tbody tr th {\n",
       "        vertical-align: top;\n",
       "    }\n",
       "\n",
       "    .dataframe thead tr th {\n",
       "        text-align: left;\n",
       "    }\n",
       "\n",
       "    .dataframe thead tr:last-of-type th {\n",
       "        text-align: right;\n",
       "    }\n",
       "</style>\n",
       "<table border=\"1\" class=\"dataframe\">\n",
       "  <thead>\n",
       "    <tr>\n",
       "      <th></th>\n",
       "      <th colspan=\"8\" halign=\"left\">budget</th>\n",
       "    </tr>\n",
       "    <tr>\n",
       "      <th></th>\n",
       "      <th>count</th>\n",
       "      <th>mean</th>\n",
       "      <th>std</th>\n",
       "      <th>min</th>\n",
       "      <th>25%</th>\n",
       "      <th>50%</th>\n",
       "      <th>75%</th>\n",
       "      <th>max</th>\n",
       "    </tr>\n",
       "    <tr>\n",
       "      <th>roi_type</th>\n",
       "      <th></th>\n",
       "      <th></th>\n",
       "      <th></th>\n",
       "      <th></th>\n",
       "      <th></th>\n",
       "      <th></th>\n",
       "      <th></th>\n",
       "      <th></th>\n",
       "    </tr>\n",
       "  </thead>\n",
       "  <tbody>\n",
       "    <tr>\n",
       "      <th>high</th>\n",
       "      <td>241.00</td>\n",
       "      <td>31986971.06</td>\n",
       "      <td>40229509.00</td>\n",
       "      <td>2500000.00</td>\n",
       "      <td>7500000.00</td>\n",
       "      <td>15000000.00</td>\n",
       "      <td>37000000.00</td>\n",
       "      <td>237000000.00</td>\n",
       "    </tr>\n",
       "    <tr>\n",
       "      <th>low</th>\n",
       "      <td>1923.00</td>\n",
       "      <td>51415948.79</td>\n",
       "      <td>48900511.19</td>\n",
       "      <td>2100000.00</td>\n",
       "      <td>18000000.00</td>\n",
       "      <td>35000000.00</td>\n",
       "      <td>69500000.00</td>\n",
       "      <td>380000000.00</td>\n",
       "    </tr>\n",
       "  </tbody>\n",
       "</table>\n",
       "</div>"
      ],
      "text/plain": [
       "          budget                                                             \\\n",
       "           count        mean         std        min         25%         50%   \n",
       "roi_type                                                                      \n",
       "high      241.00 31986971.06 40229509.00 2500000.00  7500000.00 15000000.00   \n",
       "low      1923.00 51415948.79 48900511.19 2100000.00 18000000.00 35000000.00   \n",
       "\n",
       "                                   \n",
       "                 75%          max  \n",
       "roi_type                           \n",
       "high     37000000.00 237000000.00  \n",
       "low      69500000.00 380000000.00  "
      ]
     },
     "execution_count": 38,
     "metadata": {},
     "output_type": "execute_result"
    }
   ],
   "source": [
    "tmdb_df[['roi_type', 'budget']].groupby(['roi_type']).describe()"
   ]
  },
  {
   "cell_type": "markdown",
   "metadata": {},
   "source": [
    "Movies with a high ROI have lower budgets overall, though there is considerable overlap. For the purposes of Microsoft's first movie project, I would recommend keeping in the inner quartile range of of the high ROI data, \\\\$7.5-37 million. For the rest of the analysis for the TMDB data, I will compare lower budget movies (\\\\$37 million and less) to see what differences there are between those that have a high ROI and those that have a low ROI."
   ]
  },
  {
   "cell_type": "code",
   "execution_count": 39,
   "metadata": {},
   "outputs": [],
   "source": [
    "# limiting data to movies with budget equal to or below $37 million\n",
    "tmdb_df = tmdb_df[tmdb_df['budget']<=37000000]"
   ]
  },
  {
   "cell_type": "markdown",
   "metadata": {},
   "source": [
    "### Genre\n",
    "To answer the question of what type of movie Microsoft should make, I compare the number of movies of each genre between the low and high ROI movies. "
   ]
  },
  {
   "cell_type": "code",
   "execution_count": 40,
   "metadata": {},
   "outputs": [],
   "source": [
    "#function that will take a dataframe with a genres column \n",
    "#and return a series with genres and number of movies in that genre\n",
    "def creategenreinfoseries(dataframe):\n",
    "    '''\n",
    "    return a series with the genres and number of rows containing the genre\n",
    "    \n",
    "    Parameters:\n",
    "        dataframe \n",
    "            dataframe that contains a 'genres' column \n",
    "    Returns:\n",
    "         series \n",
    "             index is the genre names, column is number of rows/movies with that genre\n",
    "    '''\n",
    "    df = fillgenres(creategenrecols(genrelistfromDF(dataframe), genreDF(dataframe)), genrelistfromDF(dataframe))\n",
    "    return dropandsum(df)\n",
    "\n",
    "def dropandsum(dataframe):\n",
    "    #drops the 'genres' column used to fill the dataframe, then sums the rows for each genre column\n",
    "    dataframe.drop(columns = ['genres'], inplace = True)\n",
    "    return dataframe.sum()\n",
    "\n",
    "def fillgenres(dataframe, _list):\n",
    "    #fills in a dataframe (will use the one created in creategencols()) based on the list in it's ['genres'] column\n",
    "    for row in dataframe.index:\n",
    "        for genre in _list:\n",
    "            if genre in dataframe['genres'][row]:\n",
    "                dataframe[genre][row]  = 1\n",
    "    return dataframe\n",
    "\n",
    "def creategenrecols(_list, dataframe):\n",
    "    #create columns from a list (will use the one created with genrelistfromDF()) \n",
    "    #in a dataframe (will use one created with genreDF())\n",
    "    for col in _list:\n",
    "        dataframe[col] = 0\n",
    "    return dataframe\n",
    "    \n",
    "def genrelistfromDF(dataframe):\n",
    "    #create and return a list of genres present in the argument\n",
    "    genre_list = sorted(set(dataframe['genres'].sum()))\n",
    "    return genre_list\n",
    "\n",
    "    \n",
    "def genreDF(dataframe):\n",
    "    #create and return a dataframe from the genres series of the argument\n",
    "    genre_df = pd.DataFrame(dataframe['genres'])\n",
    "    return genre_df"
   ]
  },
  {
   "cell_type": "code",
   "execution_count": 41,
   "metadata": {},
   "outputs": [],
   "source": [
    "#use the creategenreinfoseries function to create series with genres and \n",
    "#number of movies in the high and low ROI movie types\n",
    "high_roi = creategenreinfoseries(tmdb_df[tmdb_df['roi_type'] == 'high'])\n",
    "low_roi = creategenreinfoseries(tmdb_df[tmdb_df['roi_type'] == 'low'])\n",
    "#change the series to a dataframe\n",
    "high_roi = pd.DataFrame(high_roi, columns = ['number_of_movies'])\n",
    "low_roi = pd.DataFrame(low_roi, columns =['number_of_movies'])\n",
    "#merge the high and low roi dataframes\n",
    "genre_numbers = high_roi.reset_index().merge(\n",
    "    low_roi.reset_index(), on = 'index', suffixes = ('_high_roi', '_low_roi'))\n",
    "#create a column with the percent of high roi movies in each genre\n",
    "genre_numbers['percent_high_roi'] = genre_numbers['number_of_movies_high_roi']/(\n",
    "    genre_numbers['number_of_movies_high_roi']+genre_numbers['number_of_movies_low_roi'])"
   ]
  },
  {
   "cell_type": "code",
   "execution_count": 42,
   "metadata": {},
   "outputs": [
    {
     "data": {
      "image/png": "[encoded data removed]",
      "text/plain": [
       "<Figure size 1080x288 with 2 Axes>"
      ]
     },
     "metadata": {
      "needs_background": "light"
     },
     "output_type": "display_data"
    }
   ],
   "source": [
    "import matplotlib.ticker as mtick\n",
    "fig, ax = plt.subplots(ncols = 2, nrows = 1, figsize = (15,4))\n",
    "colours=('#FDBA15', '#1AA7F0' )\n",
    "genre_numbers.reset_index().plot(\n",
    "    x=\"index\", y=[\"number_of_movies_high_roi\", \"number_of_movies_low_roi\"], \n",
    "    kind=\"bar\", stacked = True, ax = ax[0], color=colours\n",
    ")\n",
    "genre_numbers.reset_index().plot(\n",
    "    x=\"index\", y=[\"percent_high_roi\"], kind=\"bar\", ax = ax[1], color = '#FDBA15', legend=False\n",
    ")\n",
    "\n",
    "ax[0].set_title(\"High and Low ROI genre numbers\")\n",
    "ax[0].set_xlabel(\"Genre\")\n",
    "ax[0].set_ylabel(\"Number of Movies\")\n",
    "ax[0].legend(['High ROI', 'Low ROI'], loc = 'upper right')\n",
    "\n",
    "ax[1].set_title(\"Percent of Movies that are High ROI\")\n",
    "ax[1].set_xlabel(\"Genre\")\n",
    "ax[1].set_ylabel(\"Percent High ROI\")\n",
    "ax[1].yaxis.set_major_formatter(mtick.PercentFormatter(1,0))\n",
    "\n",
    "plt.savefig(\"./images/highROIgenres.png\", dpi=150)\n",
    "plt.show()"
   ]
  },
  {
   "cell_type": "markdown",
   "metadata": {},
   "source": [
    "The genres, Documentary, History, Horror and Music, are the mostly likely to be in the high roi group for this budget range. I think that Microsoft could make some great Documentary films and will use this genre to look for possible Directors."
   ]
  },
  {
   "cell_type": "markdown",
   "metadata": {},
   "source": [
    "### Director\n",
    "To find possible directors, I use the IMDB dataset. It does not contain budget or revenue data. To identify another metric to analyze director data, I compare the popularity and vote average of the high and low ROI movie groups."
   ]
  },
  {
   "cell_type": "code",
   "execution_count": 43,
   "metadata": {},
   "outputs": [
    {
     "data": {
      "text/html": [
       "<div>\n",
       "<style scoped>\n",
       "    .dataframe tbody tr th:only-of-type {\n",
       "        vertical-align: middle;\n",
       "    }\n",
       "\n",
       "    .dataframe tbody tr th {\n",
       "        vertical-align: top;\n",
       "    }\n",
       "\n",
       "    .dataframe thead tr th {\n",
       "        text-align: left;\n",
       "    }\n",
       "\n",
       "    .dataframe thead tr:last-of-type th {\n",
       "        text-align: right;\n",
       "    }\n",
       "</style>\n",
       "<table border=\"1\" class=\"dataframe\">\n",
       "  <thead>\n",
       "    <tr>\n",
       "      <th></th>\n",
       "      <th colspan=\"8\" halign=\"left\">popularity</th>\n",
       "    </tr>\n",
       "    <tr>\n",
       "      <th></th>\n",
       "      <th>count</th>\n",
       "      <th>mean</th>\n",
       "      <th>std</th>\n",
       "      <th>min</th>\n",
       "      <th>25%</th>\n",
       "      <th>50%</th>\n",
       "      <th>75%</th>\n",
       "      <th>max</th>\n",
       "    </tr>\n",
       "    <tr>\n",
       "      <th>roi_type</th>\n",
       "      <th></th>\n",
       "      <th></th>\n",
       "      <th></th>\n",
       "      <th></th>\n",
       "      <th></th>\n",
       "      <th></th>\n",
       "      <th></th>\n",
       "      <th></th>\n",
       "    </tr>\n",
       "  </thead>\n",
       "  <tbody>\n",
       "    <tr>\n",
       "      <th>high</th>\n",
       "      <td>182.00</td>\n",
       "      <td>37.73</td>\n",
       "      <td>24.50</td>\n",
       "      <td>0.30</td>\n",
       "      <td>20.31</td>\n",
       "      <td>32.75</td>\n",
       "      <td>49.11</td>\n",
       "      <td>145.36</td>\n",
       "    </tr>\n",
       "    <tr>\n",
       "      <th>low</th>\n",
       "      <td>1017.00</td>\n",
       "      <td>18.99</td>\n",
       "      <td>15.31</td>\n",
       "      <td>0.02</td>\n",
       "      <td>8.24</td>\n",
       "      <td>15.28</td>\n",
       "      <td>25.85</td>\n",
       "      <td>192.53</td>\n",
       "    </tr>\n",
       "  </tbody>\n",
       "</table>\n",
       "</div>"
      ],
      "text/plain": [
       "         popularity                                          \n",
       "              count  mean   std  min   25%   50%   75%    max\n",
       "roi_type                                                     \n",
       "high         182.00 37.73 24.50 0.30 20.31 32.75 49.11 145.36\n",
       "low         1017.00 18.99 15.31 0.02  8.24 15.28 25.85 192.53"
      ]
     },
     "execution_count": 43,
     "metadata": {},
     "output_type": "execute_result"
    }
   ],
   "source": [
    "tmdb_df[['roi_type', 'popularity']].groupby(['roi_type']).describe()"
   ]
  },
  {
   "cell_type": "code",
   "execution_count": 44,
   "metadata": {},
   "outputs": [
    {
     "data": {
      "text/html": [
       "<div>\n",
       "<style scoped>\n",
       "    .dataframe tbody tr th:only-of-type {\n",
       "        vertical-align: middle;\n",
       "    }\n",
       "\n",
       "    .dataframe tbody tr th {\n",
       "        vertical-align: top;\n",
       "    }\n",
       "\n",
       "    .dataframe thead tr th {\n",
       "        text-align: left;\n",
       "    }\n",
       "\n",
       "    .dataframe thead tr:last-of-type th {\n",
       "        text-align: right;\n",
       "    }\n",
       "</style>\n",
       "<table border=\"1\" class=\"dataframe\">\n",
       "  <thead>\n",
       "    <tr>\n",
       "      <th></th>\n",
       "      <th colspan=\"8\" halign=\"left\">vote_average</th>\n",
       "    </tr>\n",
       "    <tr>\n",
       "      <th></th>\n",
       "      <th>count</th>\n",
       "      <th>mean</th>\n",
       "      <th>std</th>\n",
       "      <th>min</th>\n",
       "      <th>25%</th>\n",
       "      <th>50%</th>\n",
       "      <th>75%</th>\n",
       "      <th>max</th>\n",
       "    </tr>\n",
       "    <tr>\n",
       "      <th>roi_type</th>\n",
       "      <th></th>\n",
       "      <th></th>\n",
       "      <th></th>\n",
       "      <th></th>\n",
       "      <th></th>\n",
       "      <th></th>\n",
       "      <th></th>\n",
       "      <th></th>\n",
       "    </tr>\n",
       "  </thead>\n",
       "  <tbody>\n",
       "    <tr>\n",
       "      <th>high</th>\n",
       "      <td>182.00</td>\n",
       "      <td>6.55</td>\n",
       "      <td>0.81</td>\n",
       "      <td>4.10</td>\n",
       "      <td>6.10</td>\n",
       "      <td>6.50</td>\n",
       "      <td>7.20</td>\n",
       "      <td>8.30</td>\n",
       "    </tr>\n",
       "    <tr>\n",
       "      <th>low</th>\n",
       "      <td>1017.00</td>\n",
       "      <td>6.16</td>\n",
       "      <td>0.87</td>\n",
       "      <td>0.00</td>\n",
       "      <td>5.70</td>\n",
       "      <td>6.20</td>\n",
       "      <td>6.70</td>\n",
       "      <td>8.30</td>\n",
       "    </tr>\n",
       "  </tbody>\n",
       "</table>\n",
       "</div>"
      ],
      "text/plain": [
       "         vote_average                                   \n",
       "                count mean  std  min  25%  50%  75%  max\n",
       "roi_type                                                \n",
       "high           182.00 6.55 0.81 4.10 6.10 6.50 7.20 8.30\n",
       "low           1017.00 6.16 0.87 0.00 5.70 6.20 6.70 8.30"
      ]
     },
     "execution_count": 44,
     "metadata": {},
     "output_type": "execute_result"
    }
   ],
   "source": [
    "tmdb_df[['roi_type', 'vote_average']].groupby(['roi_type']).describe()"
   ]
  },
  {
   "cell_type": "code",
   "execution_count": 45,
   "metadata": {},
   "outputs": [
    {
     "data": {
      "image/png": "[encoded data removed]",
      "text/plain": [
       "<Figure size 1080x288 with 2 Axes>"
      ]
     },
     "metadata": {
      "needs_background": "light"
     },
     "output_type": "display_data"
    }
   ],
   "source": [
    "fig, ax = plt.subplots(nrows=1, ncols=2, figsize = (15, 4))\n",
    "\n",
    "sns.boxplot(y = tmdb_df['popularity'], x=tmdb_df['roi_type'], ax=ax[0])\n",
    "sns.boxplot(y = tmdb_df['vote_average'], x=tmdb_df['roi_type'], ax = ax[1])\n",
    "\n",
    "ax[0].set_title(\"Popularity of Low and High ROI Movies\")\n",
    "ax[0].set_xlabel(\"ROI Type\")\n",
    "ax[0].set_ylabel(\"Popularity\")\n",
    "\n",
    "ax[1].set_title(\"Vote Average of Low and High ROI Movies\")\n",
    "ax[1].set_xlabel(\"ROI Type\")\n",
    "ax[1].set_ylabel(\"Vote Average\")\n",
    "ax[1].set_ylim(-1, 10)\n",
    "\n",
    "plt.savefig('./images/popularitybyROI', dpi=150)\n",
    "plt.show()"
   ]
  },
  {
   "cell_type": "markdown",
   "metadata": {},
   "source": [
    "The higher ROI movies tend to be more popular and have a higher vote average than the lower ROI movies. I will used this information to look for popular documentary directors in the IMDB dataset."
   ]
  },
  {
   "cell_type": "code",
   "execution_count": 46,
   "metadata": {},
   "outputs": [],
   "source": [
    "#limit the data to Documentaries\n",
    "documentaries = imdb_df[imdb_df['genres'].apply(lambda x: 'Documentary' in x)]"
   ]
  },
  {
   "cell_type": "code",
   "execution_count": 47,
   "metadata": {},
   "outputs": [
    {
     "data": {
      "text/html": [
       "<div>\n",
       "<style scoped>\n",
       "    .dataframe tbody tr th:only-of-type {\n",
       "        vertical-align: middle;\n",
       "    }\n",
       "\n",
       "    .dataframe tbody tr th {\n",
       "        vertical-align: top;\n",
       "    }\n",
       "\n",
       "    .dataframe thead th {\n",
       "        text-align: right;\n",
       "    }\n",
       "</style>\n",
       "<table border=\"1\" class=\"dataframe\">\n",
       "  <thead>\n",
       "    <tr style=\"text-align: right;\">\n",
       "      <th></th>\n",
       "      <th>start_year</th>\n",
       "      <th>averagerating</th>\n",
       "      <th>numvotes</th>\n",
       "    </tr>\n",
       "  </thead>\n",
       "  <tbody>\n",
       "    <tr>\n",
       "      <th>count</th>\n",
       "      <td>17753.00</td>\n",
       "      <td>17753.00</td>\n",
       "      <td>17753.00</td>\n",
       "    </tr>\n",
       "    <tr>\n",
       "      <th>mean</th>\n",
       "      <td>2014.13</td>\n",
       "      <td>7.33</td>\n",
       "      <td>266.96</td>\n",
       "    </tr>\n",
       "    <tr>\n",
       "      <th>std</th>\n",
       "      <td>2.55</td>\n",
       "      <td>1.09</td>\n",
       "      <td>1871.78</td>\n",
       "    </tr>\n",
       "    <tr>\n",
       "      <th>min</th>\n",
       "      <td>2010.00</td>\n",
       "      <td>1.00</td>\n",
       "      <td>5.00</td>\n",
       "    </tr>\n",
       "    <tr>\n",
       "      <th>25%</th>\n",
       "      <td>2012.00</td>\n",
       "      <td>6.70</td>\n",
       "      <td>9.00</td>\n",
       "    </tr>\n",
       "    <tr>\n",
       "      <th>50%</th>\n",
       "      <td>2014.00</td>\n",
       "      <td>7.40</td>\n",
       "      <td>19.00</td>\n",
       "    </tr>\n",
       "    <tr>\n",
       "      <th>75%</th>\n",
       "      <td>2016.00</td>\n",
       "      <td>8.00</td>\n",
       "      <td>67.00</td>\n",
       "    </tr>\n",
       "    <tr>\n",
       "      <th>max</th>\n",
       "      <td>2019.00</td>\n",
       "      <td>10.00</td>\n",
       "      <td>74978.00</td>\n",
       "    </tr>\n",
       "  </tbody>\n",
       "</table>\n",
       "</div>"
      ],
      "text/plain": [
       "       start_year  averagerating  numvotes\n",
       "count    17753.00       17753.00  17753.00\n",
       "mean      2014.13           7.33    266.96\n",
       "std          2.55           1.09   1871.78\n",
       "min       2010.00           1.00      5.00\n",
       "25%       2012.00           6.70      9.00\n",
       "50%       2014.00           7.40     19.00\n",
       "75%       2016.00           8.00     67.00\n",
       "max       2019.00          10.00  74978.00"
      ]
     },
     "execution_count": 47,
     "metadata": {},
     "output_type": "execute_result"
    }
   ],
   "source": [
    "#look at distribution of ratings and number of votes for documentaries\n",
    "documentaries.describe()"
   ]
  },
  {
   "cell_type": "code",
   "execution_count": 48,
   "metadata": {},
   "outputs": [],
   "source": [
    "#To find the most popular documetaries, I looked only at movies with at least 1000 votes and an average rating over 8\n",
    "pop_documentaries = documentaries[(documentaries['numvotes']>=1000)&(documentaries['averagerating']>=8)]"
   ]
  },
  {
   "cell_type": "code",
   "execution_count": 49,
   "metadata": {},
   "outputs": [],
   "source": [
    "#To look at directors in these movies, I want to use the creategenreinfoseries function\n",
    "#the information to be added to the new DF needs to be in the genres column, so making changes to column names\n",
    "pop_documentaries['original_genres'] = pop_documentaries['genres']\n",
    "pop_documentaries['genres'] = pop_documentaries['directors']"
   ]
  },
  {
   "cell_type": "code",
   "execution_count": 50,
   "metadata": {},
   "outputs": [],
   "source": [
    "pop_directors = creategenreinfoseries(pop_documentaries)"
   ]
  },
  {
   "cell_type": "code",
   "execution_count": 51,
   "metadata": {},
   "outputs": [],
   "source": [
    "#find directors with at least 2 movies in the most popular documentaries\n",
    "pop_directors = pop_directors.reset_index()\n",
    "pop_directors = pop_directors[pop_directors[0] > 1]"
   ]
  },
  {
   "cell_type": "code",
   "execution_count": 52,
   "metadata": {},
   "outputs": [],
   "source": [
    "#use the list to match the directors to the name basics df to see who they are\n",
    "popdirector_list = list(pop_directors['index'])\n",
    "doc_directors = name_basics_df.loc[name_basics_df['nconst'].isin(popdirector_list)]"
   ]
  },
  {
   "cell_type": "code",
   "execution_count": 53,
   "metadata": {},
   "outputs": [
    {
     "data": {
      "text/html": [
       "<div>\n",
       "<style scoped>\n",
       "    .dataframe tbody tr th:only-of-type {\n",
       "        vertical-align: middle;\n",
       "    }\n",
       "\n",
       "    .dataframe tbody tr th {\n",
       "        vertical-align: top;\n",
       "    }\n",
       "\n",
       "    .dataframe thead th {\n",
       "        text-align: right;\n",
       "    }\n",
       "</style>\n",
       "<table border=\"1\" class=\"dataframe\">\n",
       "  <thead>\n",
       "    <tr style=\"text-align: right;\">\n",
       "      <th></th>\n",
       "      <th>nconst</th>\n",
       "      <th>primary_name</th>\n",
       "      <th>birth_year</th>\n",
       "      <th>death_year</th>\n",
       "      <th>primary_profession</th>\n",
       "      <th>known_for_titles</th>\n",
       "    </tr>\n",
       "  </thead>\n",
       "  <tbody>\n",
       "    <tr>\n",
       "      <th>514</th>\n",
       "      <td>nm0316795</td>\n",
       "      <td>Alex Gibney</td>\n",
       "      <td>1953.00</td>\n",
       "      <td>nan</td>\n",
       "      <td>[producer, director, writer]</td>\n",
       "      <td>[tt3626440, tt4257858, tt0854678, tt1016268]</td>\n",
       "    </tr>\n",
       "    <tr>\n",
       "      <th>2235</th>\n",
       "      <td>nm0242757</td>\n",
       "      <td>Sam Dunn</td>\n",
       "      <td>nan</td>\n",
       "      <td>nan</td>\n",
       "      <td>[producer, director, writer]</td>\n",
       "      <td>[tt6319696, tt0478209, tt3228830, tt1545103]</td>\n",
       "    </tr>\n",
       "    <tr>\n",
       "      <th>20260</th>\n",
       "      <td>nm1083864</td>\n",
       "      <td>Scot McFadyen</td>\n",
       "      <td>nan</td>\n",
       "      <td>nan</td>\n",
       "      <td>[producer, music_department, director]</td>\n",
       "      <td>[tt6319696, tt1545103, tt3228830, tt0478209]</td>\n",
       "    </tr>\n",
       "    <tr>\n",
       "      <th>35376</th>\n",
       "      <td>nm0001770</td>\n",
       "      <td>Fisher Stevens</td>\n",
       "      <td>1963.00</td>\n",
       "      <td>nan</td>\n",
       "      <td>[actor, producer, director]</td>\n",
       "      <td>[tt0113243, tt0211933, tt0108255, tt0091949]</td>\n",
       "    </tr>\n",
       "    <tr>\n",
       "      <th>110321</th>\n",
       "      <td>nm0193231</td>\n",
       "      <td>Adam Curtis</td>\n",
       "      <td>1955.00</td>\n",
       "      <td>nan</td>\n",
       "      <td>[director, producer, writer]</td>\n",
       "      <td>[tt0437029, tt6156350, tt0430484, tt4393514]</td>\n",
       "    </tr>\n",
       "  </tbody>\n",
       "</table>\n",
       "</div>"
      ],
      "text/plain": [
       "           nconst    primary_name  birth_year  death_year  \\\n",
       "514     nm0316795     Alex Gibney     1953.00         nan   \n",
       "2235    nm0242757        Sam Dunn         nan         nan   \n",
       "20260   nm1083864   Scot McFadyen         nan         nan   \n",
       "35376   nm0001770  Fisher Stevens     1963.00         nan   \n",
       "110321  nm0193231     Adam Curtis     1955.00         nan   \n",
       "\n",
       "                            primary_profession  \\\n",
       "514               [producer, director, writer]   \n",
       "2235              [producer, director, writer]   \n",
       "20260   [producer, music_department, director]   \n",
       "35376              [actor, producer, director]   \n",
       "110321            [director, producer, writer]   \n",
       "\n",
       "                                    known_for_titles  \n",
       "514     [tt3626440, tt4257858, tt0854678, tt1016268]  \n",
       "2235    [tt6319696, tt0478209, tt3228830, tt1545103]  \n",
       "20260   [tt6319696, tt1545103, tt3228830, tt0478209]  \n",
       "35376   [tt0113243, tt0211933, tt0108255, tt0091949]  \n",
       "110321  [tt0437029, tt6156350, tt0430484, tt4393514]  "
      ]
     },
     "execution_count": 53,
     "metadata": {},
     "output_type": "execute_result"
    }
   ],
   "source": [
    "doc_directors.head()"
   ]
  },
  {
   "cell_type": "code",
   "execution_count": 54,
   "metadata": {
    "scrolled": true
   },
   "outputs": [],
   "source": [
    "#use the \"known_for_titles\" column to create a new column with names of movies the directors are known for\n",
    "movie_dict = dict(zip(list(imdb_df['tconst']), list(imdb_df['primary_title'])))\n",
    "doc_directors = doc_directors.assign(titles=[[movie_dict[k] for k in row if movie_dict.get(k)] for row in doc_directors['known_for_titles']])"
   ]
  },
  {
   "cell_type": "code",
   "execution_count": 55,
   "metadata": {
    "scrolled": true
   },
   "outputs": [
    {
     "data": {
      "text/html": [
       "<div>\n",
       "<style scoped>\n",
       "    .dataframe tbody tr th:only-of-type {\n",
       "        vertical-align: middle;\n",
       "    }\n",
       "\n",
       "    .dataframe tbody tr th {\n",
       "        vertical-align: top;\n",
       "    }\n",
       "\n",
       "    .dataframe thead th {\n",
       "        text-align: right;\n",
       "    }\n",
       "</style>\n",
       "<table border=\"1\" class=\"dataframe\">\n",
       "  <thead>\n",
       "    <tr style=\"text-align: right;\">\n",
       "      <th></th>\n",
       "      <th>primary_name</th>\n",
       "      <th>titles</th>\n",
       "    </tr>\n",
       "  </thead>\n",
       "  <tbody>\n",
       "    <tr>\n",
       "      <th>514</th>\n",
       "      <td>Alex Gibney</td>\n",
       "      <td>[Mr. Dynamite: The Rise of James Brown, Going Clear: Scientology &amp; the Prison of Belief]</td>\n",
       "    </tr>\n",
       "    <tr>\n",
       "      <th>2235</th>\n",
       "      <td>Sam Dunn</td>\n",
       "      <td>[Super Duper Alice Cooper, Rush: Beyond the Lighted Stage]</td>\n",
       "    </tr>\n",
       "    <tr>\n",
       "      <th>20260</th>\n",
       "      <td>Scot McFadyen</td>\n",
       "      <td>[Rush: Beyond the Lighted Stage, Super Duper Alice Cooper]</td>\n",
       "    </tr>\n",
       "    <tr>\n",
       "      <th>35376</th>\n",
       "      <td>Fisher Stevens</td>\n",
       "      <td>[]</td>\n",
       "    </tr>\n",
       "    <tr>\n",
       "      <th>110321</th>\n",
       "      <td>Adam Curtis</td>\n",
       "      <td>[HyperNormalisation, Bitter Lake]</td>\n",
       "    </tr>\n",
       "    <tr>\n",
       "      <th>116468</th>\n",
       "      <td>Peter Mortimer</td>\n",
       "      <td>[Valley Uprising, The Dawn Wall]</td>\n",
       "    </tr>\n",
       "    <tr>\n",
       "      <th>139579</th>\n",
       "      <td>Joshua Oppenheimer</td>\n",
       "      <td>[The Look of Silence, The Act of Killing]</td>\n",
       "    </tr>\n",
       "    <tr>\n",
       "      <th>200770</th>\n",
       "      <td>Josh Lowell</td>\n",
       "      <td>[Valley Uprising, The Dawn Wall]</td>\n",
       "    </tr>\n",
       "    <tr>\n",
       "      <th>246161</th>\n",
       "      <td>Boris Malagurski</td>\n",
       "      <td>[The Weight of Chains, The Weight of Chains 2, Kosovo: A Moment In Civilization]</td>\n",
       "    </tr>\n",
       "  </tbody>\n",
       "</table>\n",
       "</div>"
      ],
      "text/plain": [
       "              primary_name  \\\n",
       "514     Alex Gibney          \n",
       "2235    Sam Dunn             \n",
       "20260   Scot McFadyen        \n",
       "35376   Fisher Stevens       \n",
       "110321  Adam Curtis          \n",
       "116468  Peter Mortimer       \n",
       "139579  Joshua Oppenheimer   \n",
       "200770  Josh Lowell          \n",
       "246161  Boris Malagurski     \n",
       "\n",
       "                                                                                          titles  \n",
       "514     [Mr. Dynamite: The Rise of James Brown, Going Clear: Scientology & the Prison of Belief]  \n",
       "2235    [Super Duper Alice Cooper, Rush: Beyond the Lighted Stage]                                \n",
       "20260   [Rush: Beyond the Lighted Stage, Super Duper Alice Cooper]                                \n",
       "35376   []                                                                                        \n",
       "110321  [HyperNormalisation, Bitter Lake]                                                         \n",
       "116468  [Valley Uprising, The Dawn Wall]                                                          \n",
       "139579  [The Look of Silence, The Act of Killing]                                                 \n",
       "200770  [Valley Uprising, The Dawn Wall]                                                          \n",
       "246161  [The Weight of Chains, The Weight of Chains 2, Kosovo: A Moment In Civilization]          "
      ]
     },
     "execution_count": 55,
     "metadata": {},
     "output_type": "execute_result"
    }
   ],
   "source": [
    "pd.set_option('display.max_colwidth', -1)\n",
    "doc_directors[['primary_name', 'titles']]"
   ]
  },
  {
   "cell_type": "markdown",
   "metadata": {},
   "source": [
    "## Evaluation\n",
    "\n",
    "I am confident that, given the data available, the budget and genre data is accurate and a great place to start in the movie business. However, the director data is more subjective with ratings and number of ratings on IMDB as the determining factor. \n"
   ]
  },
  {
   "cell_type": "markdown",
   "metadata": {},
   "source": [
    "## Conclusions\n",
    "\n",
    "**This analysis leads to three recommendations for Microsoft's first movie:**\n",
    "* Aim for a budget in the range of \\\\$8-37 million. This range has the greatest change to have a large ROI.\n",
    "* Create a documentary. Documentaries are the mostly likely movie genre to have a large ROI and fit well with Microsoft's image. They can leverage relationships with the Bill & Melinda Gates Foundation or Paul Allen's Experience Music Project to find fascinating stories to tell.\n",
    "* I identified 8 possible directors who have created popular documentaries in the last 10 years. This would be a great place to explore relationships.\n",
    "\n",
    "    \n",
    "**Next Steps:**\n",
    "* If the type of documentary film is decided, I would redo the director analysis looking specifically for directors with experience in that sub-genre (music, history, etc).\n",
    "* There are many more decisions to be made for this movie that could be further explored in this data, including movie runtime, release date and identifying writers."
   ]
  }
 ],
 "metadata": {
  "kernelspec": {
   "display_name": "Python 3",
   "language": "python",
   "name": "python3"
  },
  "language_info": {
   "codemirror_mode": {
    "name": "ipython",
    "version": 3
   },
   "file_extension": ".py",
   "mimetype": "text/x-python",
   "name": "python",
   "nbconvert_exporter": "python",
   "pygments_lexer": "ipython3",
   "version": "3.6.9"
  }
 },
 "nbformat": 4,
 "nbformat_minor": 4
}
